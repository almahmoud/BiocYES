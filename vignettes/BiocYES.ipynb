{
 "cells": [
  {
   "cell_type": "markdown",
   "id": "2477b82d",
   "metadata": {},
   "source": [
    "# Overview\n",
    "\n",
    "The BiocYES package collects software and documentation for an\n",
    "introduction to data science in the domain of cancer biology,\n",
    "epidemiology, and treatment. In 2022 there are five main modules\n",
    "covered:\n",
    "\n",
    "-   Cancer maps\n",
    "-   Cancer anatomy\n",
    "-   Cancer clinical trials\n",
    "-   Molecular biology of cancer: data science considerations\n",
    "-   Patient-initiated research\n",
    "\n",
    "# Cancer map concepts\n",
    "\n",
    "## Drawing maps with R"
   ]
  },
  {
   "cell_type": "code",
   "execution_count": null,
   "id": "744f59a5",
   "metadata": {},
   "outputs": [],
   "source": [
    "library(BiocYES)\n",
    "mass_map()"
   ]
  },
  {
   "cell_type": "markdown",
   "id": "13f21125",
   "metadata": {},
   "source": [
    "Exercise: Look at the code for `mass_map` and change it to produce a map\n",
    "of Rhode Island.\n",
    "\n",
    "## Tabulating cancer statistics with geographic metadata\n",
    "\n",
    "### Some basic statistics by “metropolitan statistical area (MSA)”"
   ]
  },
  {
   "cell_type": "code",
   "execution_count": null,
   "id": "704f5389",
   "metadata": {},
   "outputs": [],
   "source": [
    "library(tibble)\n",
    "library(dplyr)\n",
    "data(woncan_meta)\n",
    "cat(woncan_meta, sep=\"\\n\")\n",
    "data(woncan)\n",
    "littab = woncan |> select(MSA, `Cancer Sites`, Age.Adjusted.Rate) |> as.data.frame()\n",
    "datatable(littab, options=list(lengthMenu=c(5,10,15,20)))"
   ]
  },
  {
   "cell_type": "markdown",
   "id": "fb1ce135",
   "metadata": {},
   "source": [
    "Exercise: Use the search input widget to limit focus to prostate cancer.\n",
    "How many MSAs do not report the age adjusted rate for this cancer? Sort\n",
    "the rates in decreasing order. What is the MSA with second-highest rate\n",
    "of prostate cancer? What is the rate there?\n",
    "\n",
    "### Representing locations"
   ]
  },
  {
   "cell_type": "code",
   "execution_count": null,
   "id": "2dc5fbb5",
   "metadata": {},
   "outputs": [],
   "source": [
    "library(sf)\n",
    "data(us_county_geo)\n",
    "us_county_geo[1,] |> select(state, county, geometry)"
   ]
  },
  {
   "cell_type": "markdown",
   "id": "1694b666",
   "metadata": {},
   "source": [
    "### Exercise\n",
    "\n",
    "Join the location data to the `woncan` statistics. Plot the rates for\n",
    "prostate cancer at the geographic locations where they were recorded.\n",
    "\n",
    "As an example, look at the code for `cancer_map_usa`, which produces:"
   ]
  },
  {
   "cell_type": "code",
   "execution_count": null,
   "id": "8ff1c6ee",
   "metadata": {},
   "outputs": [],
   "source": [
    "cancer_map_usa()"
   ]
  },
  {
   "cell_type": "markdown",
   "id": "01aa6f80",
   "metadata": {},
   "source": [
    "# Cancer anatomy\n",
    "\n",
    "## TCGA sites\n",
    "\n",
    "The Cancer Genome Atlas (TCGA) collects data on a number of cancers\n",
    "defined by anatomic site. The 37 sites available are:"
   ]
  },
  {
   "cell_type": "code",
   "execution_count": null,
   "id": "31ea9161",
   "metadata": {},
   "outputs": [],
   "source": [
    "library(TCGAutils)\n",
    "data(diseaseCodes)\n",
    "datatable(diseaseCodes, options=list(lengthMenu=c(5,10,15,20)))"
   ]
  },
  {
   "cell_type": "markdown",
   "id": "1cb57d48",
   "metadata": {},
   "source": [
    "## Oncotree hierarchy\n",
    "\n",
    "The Memorial Sloan-Kettering Cancer Center manages an interactive\n",
    "tumor-type navigation system called oncotree.\n",
    "\n",
    "A snapshot is:\n",
    "\n",
    "<img src=\"oncotreeDemo.png\"/>\n",
    "\n",
    "Exercise: Use the oncotree API and operations on the JSON returned from\n",
    "`http://oncotree.mskcc.org/api/tumorTypes/tree` to produce a searchable\n",
    "table with columns indicating tissue, parent, UMLS tag, and NCI code for\n",
    "all tumor types.\n",
    "\n",
    "## Tumor anatomy: imaging of glioblastoma\n",
    "\n",
    "# Cancer clinical trials\n",
    "\n",
    "## Concepts of equipoise, randomization, and simulation\n",
    "\n",
    "For an overview of very basic considerations of probability and bias in\n",
    "the context of shuffling cards, see `vignette(\"play4YES\")`.\n",
    "\n",
    "## Finding clinical trials: clinicaltrials.gov\n",
    "\n",
    "Here is a snapshot from a page at the NIH reference for clinical trials\n",
    "(worldwide):\n",
    "\n",
    "<img src=\"ct_gov_disclaim.jpg\"/>\n",
    "\n",
    "It is necessary to know what “CTCs” means (circulating tumor cells) to\n",
    "make sense of this.\n",
    "\n",
    "## Survival curves for the comparison of treatments\n",
    "\n",
    "## Quality-adjusted survival time concepts\n",
    "\n",
    "# Molecular biology of cancer: data science perspectives\n",
    "\n",
    "# Patient-initiated research"
   ]
  }
 ],
 "metadata": {  "kernelspec": {   "display_name": "R",   "language": "R",   "name": "ir"  }},
 "nbformat": 4,
 "nbformat_minor": 5
}
