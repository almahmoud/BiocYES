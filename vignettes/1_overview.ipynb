{
 "cells": [
  {
   "cell_type": "markdown",
   "id": "05ad9c55",
   "metadata": {},
   "source": [
    "# Session 1: Survey of our approach to **Data Science for Cancer Research**\n",
    "\n",
    "“Data” plays a big part in thinking about our future engagement with\n",
    "cancer – as people, scientists, social leaders. “Data science” is the\n",
    "study of how scientific discipline, including measurement,\n",
    "experimentation, and argument, guides us to use data effectively. Data\n",
    "science is a young and diverse enterprise!\n",
    "\n",
    "In this vignette, we present a very small-scale dataset to illustrate\n",
    "some of the larger themes of cancer data science. The road map is\n",
    "\n",
    "-   A table enumerating contacts in my life who have dealt with cancer\n",
    "-   A sketch of principles underlying the assembly of data for\n",
    "    scientific purposes\n",
    "    -   This leads to a critique of my table, and to statements of\n",
    "        larger aspirations\n",
    "-   An overview of topics to be covered in forthcoming sessions\n",
    "\n",
    "# A personal cancer data project\n",
    "\n",
    "In 60 years of life I have been cancer free, but many of my relatives\n",
    "and friends have been impacted directly:"
   ]
  },
  {
   "cell_type": "code",
   "execution_count": null,
   "id": "56d7da6c",
   "metadata": {},
   "outputs": [],
   "source": [
    "library(BiocYES)\n",
    "library(DT)\n",
    "data(vjc_cancer_net)\n",
    "datatable(vjc_cancer_net)"
   ]
  },
  {
   "cell_type": "markdown",
   "id": "13ab6f63",
   "metadata": {},
   "source": [
    "How can we interpret this?\n",
    "\n",
    "At best it is difficult. It is a personalized slice-of-life, it is sad\n",
    "for some of the contacts, presents triumphs for others.\n",
    "\n",
    "When assembling or trying to interpret data, we have to keep in mind\n",
    "\n",
    "-   **The scientific objective of data collection**\n",
    "-   **The degree of precision needed to achieve our objectives**\n",
    "-   **The justification of the method by which data are collected and\n",
    "    interpreted**\n",
    "\n",
    "Planning is a fundamental component of data science and cancer research\n",
    "generally.\n",
    "\n",
    "Here’s the plan of our encounters over the next few weeks.\n",
    "\n",
    "# Topics to illuminate data science in cancer research\n",
    "\n",
    "## Cancer in the world around us\n",
    "\n",
    "-   What are rates of cancer incidence or mortality in nearby\n",
    "    communities? Around the USA?\n",
    "-   How do we form maps of cancer incidence or treatment practices? What\n",
    "    makes maps interesting and useful?\n",
    "-   How do we appraise trends in cancer incidence?\n",
    "-   How do regional trends in cancer incidence help us to reason about\n",
    "    preventive solutions?\n",
    "\n",
    "## Cancer in the human body\n",
    "\n",
    "-   What are the body sites most commonly afflicted by cancer?\n",
    "-   How do we define risks for cancers at specific body sites?\n",
    "-   Are cancer preventive strategies and treatments inherently\n",
    "    “site-specific”? Are there any approaches that may work for cancer\n",
    "    wherever in the body it occurs?\n",
    "\n",
    "## Finding treatments for cancer\n",
    "\n",
    "-   What are clinical trials?\n",
    "-   What are the classes of drugs considered useful for treating cancer,\n",
    "    and how does data science address the tasks of drug discovery and\n",
    "    optimization of treatment protocols?\n",
    "\n",
    "## Illuminating cancer biology\n",
    "\n",
    "-   What are somatic mutations? How do they occur, and how do they drive\n",
    "    tumor formation?\n",
    "-   What is gene expression? How are patterns of expression identified\n",
    "    as playing roles in cancer progression and treatment?\n",
    "\n",
    "## When our cancers aren’t well-researched\n",
    "\n",
    "-   How is data science mobilized by patient groups who find that there\n",
    "    is very limited research conducted on their particular conditions?\n",
    "\n",
    "# A brief introduction to tables and maps for YES\n",
    "\n",
    "## US Cancer statistics by “metropolitan statistical area”\n",
    "\n",
    "The BiocYES package for R includes woncan a table derived from the [CDC\n",
    "WONDER data service](https://wonder.cdc.gov/cancer-v2018.HTML). The\n",
    "table provides summaries of cancer incidence over 1999-2018."
   ]
  },
  {
   "cell_type": "code",
   "execution_count": null,
   "id": "14998313",
   "metadata": {},
   "outputs": [],
   "source": [
    "library(BiocYES)\n",
    "library(dplyr)\n",
    "library(DT)\n",
    "data(woncan)\n",
    "datatable(woncan |> filter(MSA != \"Other\") |> select(-Population))"
   ]
  },
  {
   "cell_type": "markdown",
   "id": "9b92b618",
   "metadata": {},
   "source": [
    "### Exercises\n",
    "\n",
    "-   What is the age adjusted rate of pancreatic cancer per 100000\n",
    "    residents in the Boston metropolitan statistical area (MSA)?\n",
    "\n",
    "-   What MSA has the lowest recorded rate of female breast cancer\n",
    "    (1999-2018)? (Search for code 26000-Female.)\n",
    "\n",
    "## Massachusetts data\n",
    "\n",
    "A function has been provided to produce tables of breast or prostate\n",
    "cancer incidence in Massachusetts counties."
   ]
  },
  {
   "cell_type": "code",
   "execution_count": null,
   "id": "d9a2af79",
   "metadata": {},
   "outputs": [],
   "source": [
    "datatable(MA_cancer_rate_table(\"breast\"))"
   ]
  },
  {
   "cell_type": "markdown",
   "id": "0a1857f0",
   "metadata": {},
   "source": [
    "### Exercises\n",
    "\n",
    "We now have different sets of statistics for a specific form of cancer\n",
    "(breast) in different time intervals for Massachusetts.\n",
    "\n",
    "-   Are the reported values for breast cancer incidence 2014-2018 in\n",
    "    Massachusetts counties compatible with the WONDER 1999-2018 report\n",
    "    for the Boston MSA?\n",
    "\n",
    "-   Compare the county-level rates for prostate cancer in MA with the\n",
    "    WONDER rate reported for the Boston MSA.\n",
    "\n",
    "## Interactive maps\n",
    "\n",
    "-   Twenty years ago the most common Geographic Information System was\n",
    "    the paper map or road atlas\n",
    "\n",
    "-   Now our cell-phones can ask the internet how to get to where we want\n",
    "    to go, efficiently\n",
    "\n",
    "-   Understanding how cancer events unfold in different geographic\n",
    "    regions is important for public health"
   ]
  },
  {
   "cell_type": "code",
   "execution_count": null,
   "id": "105ca08e",
   "metadata": {},
   "outputs": [],
   "source": [
    "-   Are there important environmental hazards at specific locations?\n",
    "-   Are there clues to genetic origins of particular cancers?\n",
    "-   Are culturally shared behaviors leading to increased risk?"
   ]
  },
  {
   "cell_type": "markdown",
   "id": "26cb41e4",
   "metadata": {},
   "source": [
    "-   Even though we are comfortable with annotated maps, creating and\n",
    "    using “cancer maps” to reason about cancer risk requires some\n",
    "    training\n",
    "\n",
    "-   In this notebook we will work with some interactive maps on the web,\n",
    "    and we will produce some maps using R programming\n",
    "\n",
    "-   Exercises\n",
    "\n",
    "Use the [International Agency for Research on Cancer (IARC) map\n",
    "tool](https://gco.iarc.fr/today/online-analysis-map?v=2020&mode=population&mode_population=continents&population=900&populations=900&key=asr&sex=0&cancer=39&type=0&statistic=5&prevalence=0&population_group=0&ages_group%5B%5D=0&ages_group%5B%5D=17&nb_items=10&group_cancer=1&include_nmsc=0&include_nmsc_other=0&projection=natural-earth&color_palette=default&map_scale=quantile&map_nb_colors=5&continent=0&show_ranking=0&rotate=%255B10%252C0%255D)\n",
    "to survey mortality from cancer in 2020 for individuals aged 10-24. You\n",
    "should see something like the display below.\n",
    "\n",
    "![IARC map](IARCoverall.jpg)\n",
    "\n",
    "-   True or False: Age standardized mortality from cancer in 2020 for\n",
    "    persons aged 10-24 is greater in Vietnam than in neighboring\n",
    "    countries.\n",
    "\n",
    "Use the IARC map tool to produce a worldwide map of breast cancer\n",
    "incidence for women aged 60-79.\n",
    "\n",
    "-   What is the Scandinavian country with largest estimate of\n",
    "    age-standardized breast cancer incidence for women aged 60-79?\n",
    "\n",
    "## Creating a map\n",
    "\n",
    "We’ve provided some software that helps you make interactive maps in\n",
    "Jupyter."
   ]
  },
  {
   "cell_type": "code",
   "execution_count": null,
   "id": "df8fba84",
   "metadata": {},
   "outputs": [],
   "source": [
    "mass_map()"
   ]
  },
  {
   "cell_type": "markdown",
   "id": "263faa8b",
   "metadata": {},
   "source": [
    "The map starts out with a focus on the Boston area. You can point and\n",
    "click to move the focus of the map, or use the +/- control at the top to\n",
    "zoom in or out.\n",
    "\n",
    "## Adding cancer statistics to the map\n",
    "\n",
    "We have a table of age-adjusted rates of breast and prostate cancer"
   ]
  },
  {
   "cell_type": "code",
   "execution_count": null,
   "id": "90200323",
   "metadata": {},
   "outputs": [],
   "source": [
    "brtab = MA_cancer_rate_table(site=\"breast\")\n",
    "head(brtab, 2)"
   ]
  },
  {
   "cell_type": "markdown",
   "id": "ece1a0f7",
   "metadata": {},
   "source": [
    "Here is code that produces a table that combines county latitude and\n",
    "longitude measures with the age-adjusted breast cancer rates."
   ]
  },
  {
   "cell_type": "code",
   "execution_count": null,
   "id": "2689c105",
   "metadata": {},
   "outputs": [],
   "source": [
    "data(us_county_geo)\n",
    "lj = left_join(mutate(brtab, county=County),   # mutate: obtain new variable name\n",
    "               filter(us_county_geo, state==\"MA\"), by=\"county\") # merge rates and geography\n",
    "lj$lng = sapply(lj$geometry, \"[\", 1) # \"geometry\" is a special structure\n",
    "lj$lat = sapply(lj$geometry, \"[\", 2) # need to peel apart latitude and longitude\n",
    "lj$aarat = lj$Age.Adjusted.Rate   # shorter name\n",
    "head(lj,2)"
   ]
  },
  {
   "cell_type": "markdown",
   "id": "1b018590",
   "metadata": {},
   "source": [
    "Now we use the leaflet function `addAwesomeMarkers` with our latitude\n",
    "and longitude to enhance the map."
   ]
  },
  {
   "cell_type": "code",
   "execution_count": null,
   "id": "9fac378d",
   "metadata": {},
   "outputs": [],
   "source": [
    "mass_map() |>                     # need some HTML to format popup\n",
    "    leaflet::addAwesomeMarkers(lat=lj$lat, lng=lj$lng, \n",
    "                               popup=paste(lj$Cancer.Type[1], \"<br>\", lj$county, \"<br>\", lj$aarat, sep=\"\"))"
   ]
  },
  {
   "cell_type": "markdown",
   "id": "07c7df20",
   "metadata": {},
   "source": [
    "### Exercise\n",
    "\n",
    "Our presentation of the table `lj` above is not interactive. How can you\n",
    "make it interactive?\n",
    "\n",
    "How does the map help you to think about patterns of breast cancer\n",
    "incidence in the counties of Massachusetts?\n",
    "\n",
    "Obtain the table for age-adjusted rates for prostate cancer in MA in\n",
    "2014-2018, and modify the map to present those statistics. Do you have\n",
    "any comments about patterns of prostate cancer incidence in\n",
    "Massachusetts counties?"
   ]
  }
 ],
 "metadata": {  "kernelspec": {   "display_name": "R",   "language": "R",   "name": "ir"  }},
 "nbformat": 4,
 "nbformat_minor": 5
}
