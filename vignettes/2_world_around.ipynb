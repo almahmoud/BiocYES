{
 "cells": [
  {
   "cell_type": "markdown",
   "id": "4d2fde1c",
   "metadata": {},
   "source": [
    "# Some illustrative maps of cancer incidence\n",
    "\n",
    "# Cancer map concepts\n",
    "\n",
    "## Drawing maps with R"
   ]
  },
  {
   "cell_type": "code",
   "execution_count": null,
   "id": "96109ffb",
   "metadata": {},
   "outputs": [],
   "source": [
    "library(BiocYES)\n",
    "mass_map()"
   ]
  },
  {
   "cell_type": "markdown",
   "id": "e3a592e6",
   "metadata": {},
   "source": [
    "Exercise: Look at the code for `mass_map` and change it to produce a map\n",
    "of Rhode Island.\n",
    "\n",
    "## Tabulating cancer statistics with geographic metadata\n",
    "\n",
    "### Some basic statistics by “metropolitan statistical area (MSA)”"
   ]
  },
  {
   "cell_type": "code",
   "execution_count": null,
   "id": "f86d55d8",
   "metadata": {},
   "outputs": [],
   "source": [
    "library(tibble)\n",
    "library(dplyr)\n",
    "data(woncan_meta)\n",
    "cat(woncan_meta, sep=\"\\n\")\n",
    "data(woncan)\n",
    "littab = woncan |> select(MSA, `Cancer Sites`, Age.Adjusted.Rate) |> as.data.frame()\n",
    "datatable(littab, options=list(lengthMenu=c(5,10,15,20)))"
   ]
  },
  {
   "cell_type": "markdown",
   "id": "43bf32ef",
   "metadata": {},
   "source": [
    "Exercise: Use the search input widget to limit focus to prostate cancer.\n",
    "How many MSAs do not report the age adjusted rate for this cancer? Sort\n",
    "the rates in decreasing order. What is the MSA with second-highest rate\n",
    "of prostate cancer? What is the rate there?\n",
    "\n",
    "### Representing locations"
   ]
  },
  {
   "cell_type": "code",
   "execution_count": null,
   "id": "c77d09d9",
   "metadata": {},
   "outputs": [],
   "source": [
    "library(sf)\n",
    "library(dplyr)\n",
    "data(us_county_geo)\n",
    "us_county_geo[1,] |> select(state, county, geometry)"
   ]
  },
  {
   "cell_type": "markdown",
   "id": "91fa4284",
   "metadata": {},
   "source": [
    "### Exercise\n",
    "\n",
    "Join the location data to the `woncan` statistics. Plot the rates for\n",
    "prostate cancer at the geographic locations where they were recorded.\n",
    "\n",
    "As an example, look at the code for `cancer_map_usa`, which produces:"
   ]
  },
  {
   "cell_type": "code",
   "execution_count": null,
   "id": "35438f94",
   "metadata": {},
   "outputs": [],
   "source": [
    "cancer_map_usa()"
   ]
  }
 ],
 "metadata": {  "kernelspec": {   "display_name": "R",   "language": "R",   "name": "ir"  }},
 "nbformat": 4,
 "nbformat_minor": 5
}
