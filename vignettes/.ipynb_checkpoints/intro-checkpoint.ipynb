{
 "cells": [
  {
   "cell_type": "markdown",
   "id": "e202510a",
   "metadata": {},
   "source": [
    "# Goals of Cancer Data Science modules of YES for CURE\n",
    "\n",
    "-   Explain how data on cancer cases and deaths are collected and\n",
    "    summarized in the United States\n",
    "    -   What are the roles of the Centers for Disease Control, National\n",
    "        Cancer Institute, the states, territories and localities in\n",
    "        gathering and reporting data?\n",
    "    -   Where can you go to see information about cancer trends of\n",
    "        interest to you?\n",
    "-   Explain how cancer patients can learn about – and tell about –\n",
    "    treatments and clinical trials relevant to their condition\n",
    "-   Explain how research data on the biology of cancer can be surveyed\n",
    "    and explored from a “data science” perspective\n",
    "\n",
    "“Data” plays a big part in thinking about our future engagement with\n",
    "cancer – as people, scientists, social leaders. “Data science” is the\n",
    "study of how scientific discipline, including measurement,\n",
    "experimentation, and argument, guides us to use data effectively. Data\n",
    "science is a young and diverse enterprise!\n",
    "\n",
    "# A personal cancer data project\n",
    "\n",
    "In 60 years of life I have been cancer free, but many of my relatives\n",
    "and friends have been impacted directly:"
   ]
  },
  {
   "cell_type": "code",
   "execution_count": 2,
   "id": "a87909ba",
   "metadata": {},
   "outputs": [
    {
     "data": {
      "text/plain": [
       "               _                                     \n",
       "platform       aarch64-apple-darwin20                \n",
       "arch           aarch64                               \n",
       "os             darwin20                              \n",
       "system         aarch64, darwin20                     \n",
       "status         RC                                    \n",
       "major          4                                     \n",
       "minor          1.2                                   \n",
       "year           2021                                  \n",
       "month          10                                    \n",
       "day            25                                    \n",
       "svn rev        81112                                 \n",
       "language       R                                     \n",
       "version.string R version 4.1.2 RC (2021-10-25 r81112)\n",
       "nickname       Bird Hippie                           "
      ]
     },
     "metadata": {},
     "output_type": "display_data"
    }
   ],
   "source": [
    "version"
   ]
  },
  {
   "cell_type": "code",
   "execution_count": 1,
   "id": "d1a9ba05",
   "metadata": {},
   "outputs": [
    {
     "name": "stderr",
     "output_type": "stream",
     "text": [
      "5/25 packages newly attached/loaded, see sessionInfo() for details.\n",
      "\n",
      "1/0 packages newly attached/loaded, see sessionInfo() for details.\n",
      "\n",
      "Warning message in data(vjc_cancer_net):\n",
      "\"data set 'vjc_cancer_net' not found\"\n"
     ]
    },
    {
     "ename": "ERROR",
     "evalue": "Error in crosstalk::is.SharedData(data): object 'vjc_cancer_net' not found\n",
     "output_type": "error",
     "traceback": [
      "Error in crosstalk::is.SharedData(data): object 'vjc_cancer_net' not found\nTraceback:\n",
      "1. datatable(vjc_cancer_net)",
      "2. crosstalk::is.SharedData(data)"
     ]
    }
   ],
   "source": [
    "library(BiocYES)\n",
    "library(DT)\n",
    "data(vjc_cancer_net)\n",
    "datatable(vjc_cancer_net)"
   ]
  },
  {
   "cell_type": "markdown",
   "id": "8503e4dd",
   "metadata": {},
   "source": [
    "How can we interpret this?\n",
    "\n",
    "At best it is difficult. It is a personalized slice-of-life, it is sad\n",
    "for some of the contacts, presents triumphs for others.\n",
    "\n",
    "When assembling or trying to interpret data, we have to keep in mind\n",
    "\n",
    "-   **The scientific objective of data collection**\n",
    "-   **The justification of the method by which data were collected and\n",
    "    interpreted**\n",
    "\n",
    "Planning is a fundamental component of data science and cancer research\n",
    "generally.\n",
    "\n",
    "Here’s the plan of our encounters over the next few weeks.\n",
    "\n",
    "# Topics to illuminate data science in cancer research\n",
    "\n",
    "## Cancer in the world around us\n",
    "\n",
    "-   What are rates of cancer incidence or mortality in nearby\n",
    "    communities? Around the USA?\n",
    "-   How do we form maps of cancer incidence or treatment practices? What\n",
    "    makes maps interesting and useful?\n",
    "-   How do we appraise trends in cancer incidence?\n",
    "-   How do regional trends in cancer incidence help us to reason about\n",
    "    preventive solutions?\n",
    "\n",
    "## Cancer in the human body\n",
    "\n",
    "-   What are the body sites most commonly afflicted by cancer?\n",
    "-   How do we define risks for cancers at specific body sites?\n",
    "-   Are cancer preventive strategies and treatments inherently\n",
    "    “site-specific”? Are there any approaches that may work for cancer\n",
    "    wherever in the body it occurs?\n",
    "\n",
    "## Finding treatments for cancer\n",
    "\n",
    "-   What are clinical trials?\n",
    "-   What are the classes of drugs considered useful for treating cancer,\n",
    "    and how does data science address the tasks of drug discovery and\n",
    "    optimization of treatment protocols?\n",
    "\n",
    "## Illuminating cancer biology\n",
    "\n",
    "-   What are somatic mutations? How do they occur, and how do they drive\n",
    "    tumor formation?\n",
    "-   What is gene expression? How are patterns of expression identified\n",
    "    as playing roles in cancer progression and treatment?\n",
    "\n",
    "## When our cancers aren’t well-researched\n",
    "\n",
    "-   How is data science mobilized by patient groups who find that there\n",
    "    is very limited research conducted on their particular conditions?"
   ]
  }
 ],
 "metadata": {
  "kernelspec": {
   "display_name": "R",
   "language": "R",
   "name": "ir"
  },
  "language_info": {
   "codemirror_mode": "r",
   "file_extension": ".r",
   "mimetype": "text/x-r-source",
   "name": "R",
   "pygments_lexer": "r",
   "version": "4.1.2"
  }
 },
 "nbformat": 4,
 "nbformat_minor": 5
}
