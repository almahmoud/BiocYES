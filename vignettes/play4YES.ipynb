{
 "cells": [
  {
   "cell_type": "markdown",
   "id": "d951f55f",
   "metadata": {},
   "source": [
    "# A deck of cards as an R vector"
   ]
  },
  {
   "cell_type": "code",
   "execution_count": null,
   "id": "5e531a46",
   "metadata": {},
   "outputs": [],
   "source": [
    "library(play4YES)\n",
    "set.seed(1234)  # reproducible\n",
    "deck = build_deck()\n",
    "deck"
   ]
  },
  {
   "cell_type": "markdown",
   "id": "bf88aa36",
   "metadata": {},
   "source": [
    "# Is it a fair deck?"
   ]
  },
  {
   "cell_type": "code",
   "execution_count": null,
   "id": "331a2ddd",
   "metadata": {},
   "outputs": [],
   "source": [
    "table(suits(deck), faces(deck))"
   ]
  },
  {
   "cell_type": "markdown",
   "id": "6fd300aa",
   "metadata": {},
   "source": [
    "Make a biased deck:"
   ]
  },
  {
   "cell_type": "code",
   "execution_count": null,
   "id": "4a13a264",
   "metadata": {},
   "outputs": [],
   "source": [
    "bdeck = deck\n",
    "bdeck[3] = bdeck[18]\n",
    "table(suits(bdeck), faces(bdeck))"
   ]
  },
  {
   "cell_type": "markdown",
   "id": "c337c6ec",
   "metadata": {},
   "source": [
    "# Fairness assessed by top card in a series of deals\n",
    "\n",
    "We’ll use the built-in function `sample` to simulate shuffles of the\n",
    "deck. `top_card` gives the card at top of deck."
   ]
  },
  {
   "cell_type": "code",
   "execution_count": null,
   "id": "5f6121bb",
   "metadata": {},
   "outputs": [],
   "source": [
    "shuffle = sample\n",
    "top_card = function(x) x[1]\n",
    "t1 = top_card(shuffle(deck))\n",
    "t1\n",
    "suits(t1)"
   ]
  },
  {
   "cell_type": "markdown",
   "id": "81b8f418",
   "metadata": {},
   "source": [
    "## Using the fair deck\n",
    "\n",
    "We’ll take the top cards for each of 100 shuffles and examine the suit."
   ]
  },
  {
   "cell_type": "code",
   "execution_count": null,
   "id": "917b33d8",
   "metadata": {},
   "outputs": [],
   "source": [
    "table( replicate(100, suits(top_card(shuffle(deck)))) )"
   ]
  },
  {
   "cell_type": "markdown",
   "id": "79f74f8c",
   "metadata": {},
   "source": [
    "We should see about 25 for each suit. Are we close enough?\n",
    "\n",
    "## Using the biased deck"
   ]
  },
  {
   "cell_type": "code",
   "execution_count": null,
   "id": "58f87934",
   "metadata": {},
   "outputs": [],
   "source": [
    "table( replicate(100, suits(top_card(shuffle(bdeck)))) )"
   ]
  },
  {
   "cell_type": "markdown",
   "id": "4ba6bb22",
   "metadata": {},
   "source": [
    "## Increasing the “sample size”\n",
    "\n",
    "Variability can mask structural bias. If we create statistics based on\n",
    "more observations, we can start to unearth it."
   ]
  },
  {
   "cell_type": "code",
   "execution_count": null,
   "id": "2c683188",
   "metadata": {},
   "outputs": [],
   "source": [
    "table( replicate(10000, suits(top_card(shuffle(deck)))) )\n",
    "table( replicate(10000, suits(top_card(shuffle(bdeck)))) )"
   ]
  },
  {
   "cell_type": "markdown",
   "id": "3d562d30",
   "metadata": {},
   "source": [
    "# A finer-grained problem: the face, not the suit\n",
    "\n",
    "There are 4 different suits, but 13 different faces. Is the bias\n",
    "discernible with this procedure?"
   ]
  },
  {
   "cell_type": "code",
   "execution_count": null,
   "id": "a5a35920",
   "metadata": {},
   "outputs": [],
   "source": [
    "table( replicate(100, faces(top_card(shuffle(deck)))) )\n",
    "table( replicate(100, faces(top_card(shuffle(bdeck)))) )"
   ]
  },
  {
   "cell_type": "markdown",
   "id": "e9e7d3c4",
   "metadata": {},
   "source": [
    "If we make 10000 shuffles, we expect each face to appear 10000/13 =\n",
    "769.230…. times."
   ]
  },
  {
   "cell_type": "code",
   "execution_count": null,
   "id": "2c1e0d14",
   "metadata": {},
   "outputs": [],
   "source": [
    "tfair <- table( replicate(10000, faces(top_card(shuffle(deck)))) )\n",
    "tfair\n",
    "tbias <- table( replicate(10000, faces(top_card(shuffle(bdeck)))) )\n",
    "tbias"
   ]
  },
  {
   "cell_type": "markdown",
   "id": "0452195c",
   "metadata": {},
   "source": [
    "We can plot the observed frequencies of appearance of each face."
   ]
  },
  {
   "cell_type": "code",
   "execution_count": null,
   "id": "f4af68c5",
   "metadata": {},
   "outputs": [],
   "source": [
    "library(beeswarm)\n",
    "beeswarm(list(fair=tfair,biased=tbias), ylab=\"Top card face frequencies\")"
   ]
  },
  {
   "cell_type": "markdown",
   "id": "ea834131",
   "metadata": {},
   "source": [
    "With the biased deck, one face has depleted frequency, one enhanced."
   ]
  }
 ],
 "metadata": {  "kernelspec": {   "display_name": "R",   "language": "R",   "name": "ir"  }},
 "nbformat": 4,
 "nbformat_minor": 5
}
