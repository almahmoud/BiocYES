{
 "cells": [
  {
   "cell_type": "markdown",
   "id": "09a3b825",
   "metadata": {},
   "source": [
    "# Session 1: Tables and maps about cancer incidence\n",
    "\n",
    "“Data” plays a big part in thinking about our future engagement with\n",
    "cancer – as people, scientists, social leaders. “Data science” is the\n",
    "study of how scientific discipline, including measurement,\n",
    "experimentation, and argument, guides us to use data effectively. Data\n",
    "science is a young and diverse enterprise!\n",
    "\n",
    "In this vignette, we present a very small-scale dataset to illustrate\n",
    "some of the larger themes of cancer data science. The road map is\n",
    "\n",
    "-   A table enumerating contacts in my life who have dealt with cancer\n",
    "-   A sketch of principles underlying the assembly of data for\n",
    "    scientific purposes\n",
    "    -   This leads to a critique of my table, and to statements of\n",
    "        larger aspirations\n",
    "-   An overview of topics to be covered in forthcoming sessions\n",
    "\n",
    "# A personal cancer data project\n",
    "\n",
    "In 60 years of life I have been cancer free, but many of my relatives\n",
    "and friends have been impacted directly:"
   ]
  },
  {
   "cell_type": "code",
   "execution_count": null,
   "id": "051ca990",
   "metadata": {},
   "outputs": [],
   "source": [
    "library(BiocYES)\n",
    "library(DT)\n",
    "data(vjc_cancer_net)\n",
    "datatable(vjc_cancer_net)"
   ]
  },
  {
   "cell_type": "markdown",
   "id": "341a70bc",
   "metadata": {},
   "source": [
    "How can we interpret this?\n",
    "\n",
    "At best it is difficult. It is a personalized slice-of-life, it is sad\n",
    "for some of the contacts, presents triumphs for others.\n",
    "\n",
    "When assembling or trying to interpret data, we have to keep in mind\n",
    "\n",
    "-   **The scientific objective of data collection**\n",
    "-   **The degree of precision needed to achieve our objectives**\n",
    "-   **The justification of the method by which data are collected and\n",
    "    interpreted**\n",
    "\n",
    "Planning is a fundamental component of data science and cancer research\n",
    "generally.\n",
    "\n",
    "# A brief introduction to tables and maps for YES\n",
    "\n",
    "## Some preliminary definitions\n",
    "\n",
    "-   **incidence** is the number of events recorded in a certain period\n",
    "    of time, divided by the number of persons “at risk” for the event\n",
    "    -   informative on new onsets\n",
    "    -   typically reported per 100000 persons\n",
    "-   **prevalence** is the number of individuals diagnosed with a disease\n",
    "    divided by the total population size\n",
    "    -   informative on overall disease burden, affected by duration of\n",
    "        disease\n",
    "-   **mortality** number of deaths in a given interval of time, divided\n",
    "    by total population size\n",
    "    -   variations: cause-specific mortality\n",
    "-   **metropolitan statistical area** a region with an urbanized area of\n",
    "    size greater than 50000\n",
    "\n",
    "## Some comments about “computing” with tables and maps\n",
    "\n",
    "-   We emphasize **interactive** data presentations\n",
    "\n",
    "-   A table can be “printed” for use to read, or “rendered” in a dynamic\n",
    "    system, so that we can sort or search for information, taking\n",
    "    advantage of “skills” that computers have\n",
    "\n",
    "-   The same concept applies to maps, which we can embellish and\n",
    "    pan/zoom to find features of interest\n",
    "\n",
    "## US Cancer statistics by “metropolitan statistical area”\n",
    "\n",
    "The BiocYES package for R includes woncan a table derived from the [CDC\n",
    "WONDER data service](https://wonder.cdc.gov/cancer-v2018.HTML). The\n",
    "table provides summaries of cancer incidence over 1999-2018."
   ]
  },
  {
   "cell_type": "code",
   "execution_count": null,
   "id": "32e92b02",
   "metadata": {},
   "outputs": [],
   "source": [
    "library(BiocYES)\n",
    "library(dplyr)\n",
    "library(DT)\n",
    "data(woncan)\n",
    "datatable(woncan |> filter(MSA != \"Other\") |> select(-Population))"
   ]
  },
  {
   "cell_type": "markdown",
   "id": "d47b0059",
   "metadata": {},
   "source": [
    "### Exercises\n",
    "\n",
    "-   What is the age adjusted rate of pancreatic cancer per 100000\n",
    "    residents in the Boston metropolitan statistical area (MSA)?\n",
    "\n",
    "-   What MSA has the lowest recorded rate of female breast cancer\n",
    "    (1999-2018)? (Search for code 26000-Female.)\n",
    "\n",
    "## Massachusetts data\n",
    "\n",
    "A function has been provided to produce tables of breast or prostate\n",
    "cancer incidence in Massachusetts counties."
   ]
  },
  {
   "cell_type": "code",
   "execution_count": null,
   "id": "5b6f356d",
   "metadata": {},
   "outputs": [],
   "source": [
    "datatable(MA_cancer_rate_table(\"breast\"))"
   ]
  },
  {
   "cell_type": "markdown",
   "id": "8372e3e1",
   "metadata": {},
   "source": [
    "### Exercises\n",
    "\n",
    "We now have different sets of statistics for a specific form of cancer\n",
    "(breast) in different time intervals for Massachusetts.\n",
    "\n",
    "-   Are the reported values for breast cancer incidence 2014-2018 in\n",
    "    Massachusetts counties compatible with the WONDER 1999-2018 report\n",
    "    for the Boston MSA?\n",
    "\n",
    "-   Compare the county-level rates for prostate cancer in MA with the\n",
    "    WONDER rate reported for the Boston MSA.\n",
    "\n",
    "## Interactive maps\n",
    "\n",
    "-   Twenty years ago the most common Geographic Information System was\n",
    "    the paper map or road atlas\n",
    "-   Now our cell-phones can ask the internet how to get to where we want\n",
    "    to go, efficiently\n",
    "-   Understanding how cancer events unfold in different geographic\n",
    "    regions is important for public health\n",
    "    -   Are there important environmental hazards at specific locations?\n",
    "    -   Are there clues to genetic origins of particular cancers?\n",
    "    -   Are culturally shared behaviors leading to increased risk?\n",
    "-   Even though we are comfortable with annotated maps, creating and\n",
    "    using “cancer maps” to reason about cancer risk requires some\n",
    "    training\n",
    "-   In this notebook we will work with some interactive maps on the web,\n",
    "    and we will produce some maps using R programming\n",
    "\n",
    "### Exercises\n",
    "\n",
    "Use the [International Agency for Research on Cancer (IARC) map\n",
    "tool](https://gco.iarc.fr/today/online-analysis-map?v=2020&mode=population&mode_population=continents&population=900&populations=900&key=asr&sex=0&cancer=39&type=0&statistic=5&prevalence=0&population_group=0&ages_group%5B%5D=0&ages_group%5B%5D=17&nb_items=10&group_cancer=1&include_nmsc=0&include_nmsc_other=0&projection=natural-earth&color_palette=default&map_scale=quantile&map_nb_colors=5&continent=0&show_ranking=0&rotate=%255B10%252C0%255D)\n",
    "to survey mortality from cancer in 2020 for individuals aged 10-24. You\n",
    "should see something like the display below.\n",
    "\n",
    "![IARC map](IARCoverall.jpg)\n",
    "\n",
    "-   True or False: Age standardized mortality from cancer in 2020 for\n",
    "    persons aged 10-24 is greater in Vietnam than in neighboring\n",
    "    countries.\n",
    "\n",
    "Use the IARC map tool to produce a worldwide map of breast cancer\n",
    "incidence for women aged 60-79.\n",
    "\n",
    "-   What is the Scandinavian country with largest estimate of\n",
    "    age-standardized breast cancer incidence for women aged 60-79?\n",
    "\n",
    "## Creating a map\n",
    "\n",
    "We’ve provided some software that helps you make interactive maps in\n",
    "Jupyter."
   ]
  },
  {
   "cell_type": "code",
   "execution_count": null,
   "id": "1969809d",
   "metadata": {},
   "outputs": [],
   "source": [
    "mass_map()"
   ]
  },
  {
   "cell_type": "markdown",
   "id": "ceb27794",
   "metadata": {},
   "source": [
    "The map starts out with a focus on the Boston area. You can point and\n",
    "click to move the focus of the map, or use the +/- control at the top to\n",
    "zoom in or out.\n",
    "\n",
    "## Adding cancer statistics to the map\n",
    "\n",
    "We have a table of age-adjusted rates of breast and prostate cancer"
   ]
  },
  {
   "cell_type": "code",
   "execution_count": null,
   "id": "e59e6d06",
   "metadata": {},
   "outputs": [],
   "source": [
    "brtab = MA_cancer_rate_table(site=\"breast\")\n",
    "head(brtab, 2)"
   ]
  },
  {
   "cell_type": "markdown",
   "id": "e6f39ed4",
   "metadata": {},
   "source": [
    "Here is code that produces a table that combines county latitude and\n",
    "longitude measures with the age-adjusted breast cancer rates."
   ]
  },
  {
   "cell_type": "code",
   "execution_count": null,
   "id": "b6e4f37f",
   "metadata": {},
   "outputs": [],
   "source": [
    "data(us_county_geo)\n",
    "lj = left_join(mutate(brtab, county=County),   # mutate: obtain new variable name\n",
    "               filter(us_county_geo, state==\"MA\"), by=\"county\") # merge rates and geography\n",
    "lj$lng = sapply(lj$geometry, \"[\", 1) # \"geometry\" is a special structure\n",
    "lj$lat = sapply(lj$geometry, \"[\", 2) # need to peel apart latitude and longitude\n",
    "lj$aarat = lj$Age.Adjusted.Rate   # shorter name\n",
    "head(lj,2)"
   ]
  },
  {
   "cell_type": "markdown",
   "id": "63e5d448",
   "metadata": {},
   "source": [
    "Now we use the leaflet function `addAwesomeMarkers` with our latitude\n",
    "and longitude to enhance the map."
   ]
  },
  {
   "cell_type": "code",
   "execution_count": null,
   "id": "e2c74dd0",
   "metadata": {},
   "outputs": [],
   "source": [
    "mass_map() |>                     # need some HTML to format popup\n",
    "    leaflet::addAwesomeMarkers(lat=lj$lat, lng=lj$lng, \n",
    "                               popup=paste(lj$Cancer.Type[1], \"<br>\", lj$county, \"<br>\", lj$aarat, sep=\"\"))"
   ]
  },
  {
   "cell_type": "markdown",
   "id": "5c4475b2",
   "metadata": {},
   "source": [
    "### Exercise\n",
    "\n",
    "Our presentation of the table `lj` above is not interactive. How can you\n",
    "make it interactive?\n",
    "\n",
    "How does the map help you to think about patterns of breast cancer\n",
    "incidence in the counties of Massachusetts?\n",
    "\n",
    "Obtain the table for age-adjusted rates for prostate cancer in MA in\n",
    "2014-2018, and modify the map to present those statistics. Do you have\n",
    "any comments about patterns of prostate cancer incidence in\n",
    "Massachusetts counties?\n",
    "\n",
    "## The US as a whole: Some basic statistics by “metropolitan statistical area (MSA)”"
   ]
  },
  {
   "cell_type": "code",
   "execution_count": null,
   "id": "2ce896c7",
   "metadata": {},
   "outputs": [],
   "source": [
    "library(tibble)\n",
    "library(dplyr)\n",
    "data(woncan_meta)\n",
    "cat(woncan_meta, sep=\"\\n\")\n",
    "data(woncan)\n",
    "littab = woncan |> select(MSA, `Cancer Sites`, Age.Adjusted.Rate) |> as.data.frame()\n",
    "datatable(littab, options=list(lengthMenu=c(5,10,15,20)))"
   ]
  },
  {
   "cell_type": "markdown",
   "id": "1297589a",
   "metadata": {},
   "source": [
    "Exercise: Use the search input widget to limit focus to prostate cancer.\n",
    "How many MSAs do not report the age adjusted rate for this cancer? Sort\n",
    "the rates in decreasing order. What is the MSA with second-highest rate\n",
    "of prostate cancer? What is the rate there?\n",
    "\n",
    "### Representing locations"
   ]
  },
  {
   "cell_type": "code",
   "execution_count": null,
   "id": "f5f4ff3c",
   "metadata": {},
   "outputs": [],
   "source": [
    "library(sf)\n",
    "library(dplyr)\n",
    "data(us_county_geo)\n",
    "us_county_geo[1,] |> select(state, county, geometry)"
   ]
  },
  {
   "cell_type": "markdown",
   "id": "c338e746",
   "metadata": {},
   "source": [
    "### Exercise\n",
    "\n",
    "Join the location data to the `woncan` statistics. Plot the rates for\n",
    "prostate cancer at the geographic locations where they were recorded.\n",
    "\n",
    "As an example, `cancer_map_usa` produces:"
   ]
  },
  {
   "cell_type": "code",
   "execution_count": null,
   "id": "66241048",
   "metadata": {},
   "outputs": [],
   "source": [
    "cancer_map_usa()"
   ]
  },
  {
   "cell_type": "markdown",
   "id": "60a1e438",
   "metadata": {},
   "source": [
    "The code is:"
   ]
  },
  {
   "cell_type": "code",
   "execution_count": null,
   "id": "133c0a79",
   "metadata": {},
   "outputs": [],
   "source": [
    "cancer_map_usa"
   ]
  },
  {
   "cell_type": "markdown",
   "id": "06cd76ee",
   "metadata": {},
   "source": [
    "Create a new notebook cell with the call to `cancer_map_usa` to produce\n",
    "prostate cancer statistics.\n",
    "\n",
    "Finally, to get a different view of variation in cancer rates across the\n",
    "United States, run the following cell. Geographic location is lost, but\n",
    "the range of variation, and details of variation can be seen very\n",
    "clearly in these displays."
   ]
  },
  {
   "cell_type": "code",
   "execution_count": null,
   "id": "fc245134",
   "metadata": {},
   "outputs": [],
   "source": [
    "browseURL(\"https://vjcitn.shinyapps.io/ratevariation\")"
   ]
  },
  {
   "cell_type": "markdown",
   "id": "3038985b",
   "metadata": {},
   "source": [
    "Change the body site to “Prostate” (remove “Brain”) and find, using the\n",
    "histogram tab, the areas with highest and lowest age-adjusted rates of\n",
    "prostate cancer."
   ]
  }
 ],
 "metadata": {  "kernelspec": {   "display_name": "R",   "language": "R",   "name": "ir"  }},
 "nbformat": 4,
 "nbformat_minor": 5
}
