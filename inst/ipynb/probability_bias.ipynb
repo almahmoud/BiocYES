{
 "cells": [
  {
   "cell_type": "markdown",
   "id": "054b3166",
   "metadata": {},
   "source": [
    "# Some probability illustrations with playing cards and R\n",
    "\n",
    "The `play4YES` package has been made to simplify working with cards.  \n",
    "\n",
    "The `build_deck` function produces a vector of length 52.  Unicode symbols for card suits\n",
    "are used to make the vector elements resemble playing cards.\n",
    "\n",
    "## Basic operations"
   ]
  },
  {
   "cell_type": "code",
   "execution_count": 36,
   "id": "e241c5b9",
   "metadata": {},
   "outputs": [
    {
     "name": "stderr",
     "output_type": "stream",
     "text": [
      "0/0 packages newly attached/loaded, see sessionInfo() for details.\n",
      "\n"
     ]
    }
   ],
   "source": [
    "library(play4YES)\n",
    "options(digits=3)"
   ]
  },
  {
   "cell_type": "code",
   "execution_count": 37,
   "id": "e3ef3711",
   "metadata": {},
   "outputs": [
    {
     "data": {
      "text/html": [
       "52"
      ],
      "text/latex": [
       "52"
      ],
      "text/markdown": [
       "52"
      ],
      "text/plain": [
       "[1] 52"
      ]
     },
     "metadata": {},
     "output_type": "display_data"
    }
   ],
   "source": [
    "d = build_deck()\n",
    "length(d)"
   ]
  },
  {
   "cell_type": "code",
   "execution_count": 38,
   "id": "7d659520",
   "metadata": {},
   "outputs": [
    {
     "data": {
      "text/html": [
       "<style>\n",
       ".list-inline {list-style: none; margin:0; padding: 0}\n",
       ".list-inline>li {display: inline-block}\n",
       ".list-inline>li:not(:last-child)::after {content: \"\\00b7\"; padding: 0 .5ex}\n",
       "</style>\n",
       "<ol class=list-inline><li>'2 ♡'</li><li>'3 ♡'</li><li>'4 ♡'</li><li>'5 ♡'</li><li>'6 ♡'</li><li>'7 ♡'</li><li>'8 ♡'</li><li>'9 ♡'</li><li>'10 ♡'</li><li>'J ♡'</li><li>'Q ♡'</li><li>'K ♡'</li><li>'A ♡'</li><li>'2 ♢'</li><li>'3 ♢'</li><li>'4 ♢'</li><li>'5 ♢'</li><li>'6 ♢'</li><li>'7 ♢'</li><li>'8 ♢'</li><li>'9 ♢'</li><li>'10 ♢'</li><li>'J ♢'</li><li>'Q ♢'</li><li>'K ♢'</li><li>'A ♢'</li><li>'2 ♣'</li><li>'3 ♣'</li><li>'4 ♣'</li><li>'5 ♣'</li><li>'6 ♣'</li><li>'7 ♣'</li><li>'8 ♣'</li><li>'9 ♣'</li><li>'10 ♣'</li><li>'J ♣'</li><li>'Q ♣'</li><li>'K ♣'</li><li>'A ♣'</li><li>'2 ♤'</li><li>'3 ♤'</li><li>'4 ♤'</li><li>'5 ♤'</li><li>'6 ♤'</li><li>'7 ♤'</li><li>'8 ♤'</li><li>'9 ♤'</li><li>'10 ♤'</li><li>'J ♤'</li><li>'Q ♤'</li><li>'K ♤'</li><li>'A ♤'</li></ol>\n"
      ],
      "text/latex": [
       "\\begin{enumerate*}\n",
       "\\item '2 ♡'\n",
       "\\item '3 ♡'\n",
       "\\item '4 ♡'\n",
       "\\item '5 ♡'\n",
       "\\item '6 ♡'\n",
       "\\item '7 ♡'\n",
       "\\item '8 ♡'\n",
       "\\item '9 ♡'\n",
       "\\item '10 ♡'\n",
       "\\item 'J ♡'\n",
       "\\item 'Q ♡'\n",
       "\\item 'K ♡'\n",
       "\\item 'A ♡'\n",
       "\\item '2 ♢'\n",
       "\\item '3 ♢'\n",
       "\\item '4 ♢'\n",
       "\\item '5 ♢'\n",
       "\\item '6 ♢'\n",
       "\\item '7 ♢'\n",
       "\\item '8 ♢'\n",
       "\\item '9 ♢'\n",
       "\\item '10 ♢'\n",
       "\\item 'J ♢'\n",
       "\\item 'Q ♢'\n",
       "\\item 'K ♢'\n",
       "\\item 'A ♢'\n",
       "\\item '2 ♣'\n",
       "\\item '3 ♣'\n",
       "\\item '4 ♣'\n",
       "\\item '5 ♣'\n",
       "\\item '6 ♣'\n",
       "\\item '7 ♣'\n",
       "\\item '8 ♣'\n",
       "\\item '9 ♣'\n",
       "\\item '10 ♣'\n",
       "\\item 'J ♣'\n",
       "\\item 'Q ♣'\n",
       "\\item 'K ♣'\n",
       "\\item 'A ♣'\n",
       "\\item '2 ♤'\n",
       "\\item '3 ♤'\n",
       "\\item '4 ♤'\n",
       "\\item '5 ♤'\n",
       "\\item '6 ♤'\n",
       "\\item '7 ♤'\n",
       "\\item '8 ♤'\n",
       "\\item '9 ♤'\n",
       "\\item '10 ♤'\n",
       "\\item 'J ♤'\n",
       "\\item 'Q ♤'\n",
       "\\item 'K ♤'\n",
       "\\item 'A ♤'\n",
       "\\end{enumerate*}\n"
      ],
      "text/markdown": [
       "1. '2 ♡'\n",
       "2. '3 ♡'\n",
       "3. '4 ♡'\n",
       "4. '5 ♡'\n",
       "5. '6 ♡'\n",
       "6. '7 ♡'\n",
       "7. '8 ♡'\n",
       "8. '9 ♡'\n",
       "9. '10 ♡'\n",
       "10. 'J ♡'\n",
       "11. 'Q ♡'\n",
       "12. 'K ♡'\n",
       "13. 'A ♡'\n",
       "14. '2 ♢'\n",
       "15. '3 ♢'\n",
       "16. '4 ♢'\n",
       "17. '5 ♢'\n",
       "18. '6 ♢'\n",
       "19. '7 ♢'\n",
       "20. '8 ♢'\n",
       "21. '9 ♢'\n",
       "22. '10 ♢'\n",
       "23. 'J ♢'\n",
       "24. 'Q ♢'\n",
       "25. 'K ♢'\n",
       "26. 'A ♢'\n",
       "27. '2 ♣'\n",
       "28. '3 ♣'\n",
       "29. '4 ♣'\n",
       "30. '5 ♣'\n",
       "31. '6 ♣'\n",
       "32. '7 ♣'\n",
       "33. '8 ♣'\n",
       "34. '9 ♣'\n",
       "35. '10 ♣'\n",
       "36. 'J ♣'\n",
       "37. 'Q ♣'\n",
       "38. 'K ♣'\n",
       "39. 'A ♣'\n",
       "40. '2 ♤'\n",
       "41. '3 ♤'\n",
       "42. '4 ♤'\n",
       "43. '5 ♤'\n",
       "44. '6 ♤'\n",
       "45. '7 ♤'\n",
       "46. '8 ♤'\n",
       "47. '9 ♤'\n",
       "48. '10 ♤'\n",
       "49. 'J ♤'\n",
       "50. 'Q ♤'\n",
       "51. 'K ♤'\n",
       "52. 'A ♤'\n",
       "\n",
       "\n"
      ],
      "text/plain": [
       " [1] \"2 ♡\"  \"3 ♡\"  \"4 ♡\"  \"5 ♡\"  \"6 ♡\"  \"7 ♡\"  \"8 ♡\"  \"9 ♡\"  \"10 ♡\" \"J ♡\" \n",
       "[11] \"Q ♡\"  \"K ♡\"  \"A ♡\"  \"2 ♢\"  \"3 ♢\"  \"4 ♢\"  \"5 ♢\"  \"6 ♢\"  \"7 ♢\"  \"8 ♢\" \n",
       "[21] \"9 ♢\"  \"10 ♢\" \"J ♢\"  \"Q ♢\"  \"K ♢\"  \"A ♢\"  \"2 ♣\"  \"3 ♣\"  \"4 ♣\"  \"5 ♣\" \n",
       "[31] \"6 ♣\"  \"7 ♣\"  \"8 ♣\"  \"9 ♣\"  \"10 ♣\" \"J ♣\"  \"Q ♣\"  \"K ♣\"  \"A ♣\"  \"2 ♤\" \n",
       "[41] \"3 ♤\"  \"4 ♤\"  \"5 ♤\"  \"6 ♤\"  \"7 ♤\"  \"8 ♤\"  \"9 ♤\"  \"10 ♤\" \"J ♤\"  \"Q ♤\" \n",
       "[51] \"K ♤\"  \"A ♤\" "
      ]
     },
     "metadata": {},
     "output_type": "display_data"
    }
   ],
   "source": [
    "d"
   ]
  },
  {
   "cell_type": "markdown",
   "id": "2bf6e5a0",
   "metadata": {},
   "source": [
    "We show that each suit has 13 cards with identical faces.  Each suit-face combination appears once."
   ]
  },
  {
   "cell_type": "code",
   "execution_count": 39,
   "id": "993d9d83",
   "metadata": {},
   "outputs": [
    {
     "data": {
      "text/plain": [
       "   \n",
       "    10 2 3 4 5 6 7 8 9 A J K Q\n",
       "  ♡  1 1 1 1 1 1 1 1 1 1 1 1 1\n",
       "  ♢  1 1 1 1 1 1 1 1 1 1 1 1 1\n",
       "  ♣  1 1 1 1 1 1 1 1 1 1 1 1 1\n",
       "  ♤  1 1 1 1 1 1 1 1 1 1 1 1 1"
      ]
     },
     "metadata": {},
     "output_type": "display_data"
    }
   ],
   "source": [
    "table(suits(d), faces(d))"
   ]
  },
  {
   "cell_type": "markdown",
   "id": "b846cb06",
   "metadata": {},
   "source": [
    "We define a few functions to make our terminology more natural."
   ]
  },
  {
   "cell_type": "code",
   "execution_count": 60,
   "id": "e3e2572f",
   "metadata": {},
   "outputs": [],
   "source": [
    "shuffle = sample\n",
    "top_card = function(x) x[1]\n",
    "deal_5 = function(x) x[1:5]"
   ]
  },
  {
   "cell_type": "markdown",
   "id": "01384e5d",
   "metadata": {},
   "source": [
    "We aren't controlling the random shuffling yet, so what you see may differ from what is shown in the next two cells."
   ]
  },
  {
   "cell_type": "code",
   "execution_count": 41,
   "id": "82945419",
   "metadata": {},
   "outputs": [
    {
     "data": {
      "text/html": [
       "'10 ♣'"
      ],
      "text/latex": [
       "'10 ♣'"
      ],
      "text/markdown": [
       "'10 ♣'"
      ],
      "text/plain": [
       "[1] \"10 ♣\""
      ]
     },
     "metadata": {},
     "output_type": "display_data"
    }
   ],
   "source": [
    "t1 = top_card(shuffle(d))\n",
    "t1"
   ]
  },
  {
   "cell_type": "code",
   "execution_count": 42,
   "id": "b19758c7",
   "metadata": {},
   "outputs": [
    {
     "data": {
      "text/html": [
       "'J ♤'"
      ],
      "text/latex": [
       "'J ♤'"
      ],
      "text/markdown": [
       "'J ♤'"
      ],
      "text/plain": [
       "[1] \"J ♤\""
      ]
     },
     "metadata": {},
     "output_type": "display_data"
    }
   ],
   "source": [
    "top_card(shuffle(d))"
   ]
  },
  {
   "cell_type": "markdown",
   "id": "9c8eb4a5",
   "metadata": {},
   "source": [
    "## Make shuffles reproducible with `set.seed`"
   ]
  },
  {
   "cell_type": "code",
   "execution_count": 43,
   "id": "5262edac",
   "metadata": {},
   "outputs": [
    {
     "data": {
      "text/html": [
       "'3 ♣'"
      ],
      "text/latex": [
       "'3 ♣'"
      ],
      "text/markdown": [
       "'3 ♣'"
      ],
      "text/plain": [
       "[1] \"3 ♣\""
      ]
     },
     "metadata": {},
     "output_type": "display_data"
    }
   ],
   "source": [
    "set.seed(1234)\n",
    "top_card(shuffle(d))"
   ]
  },
  {
   "cell_type": "code",
   "execution_count": 44,
   "id": "a376e2d8",
   "metadata": {},
   "outputs": [
    {
     "data": {
      "text/html": [
       "'3 ♣'"
      ],
      "text/latex": [
       "'3 ♣'"
      ],
      "text/markdown": [
       "'3 ♣'"
      ],
      "text/plain": [
       "[1] \"3 ♣\""
      ]
     },
     "metadata": {},
     "output_type": "display_data"
    }
   ],
   "source": [
    "set.seed(1234)\n",
    "top_card(shuffle(d))"
   ]
  },
  {
   "cell_type": "markdown",
   "id": "3b986f7e",
   "metadata": {},
   "source": [
    "## \"The distribution of top-card faces after 100 shuffles of a fair deck\""
   ]
  },
  {
   "cell_type": "code",
   "execution_count": 45,
   "id": "d60d479f",
   "metadata": {},
   "outputs": [
    {
     "data": {
      "text/plain": [
       "\n",
       "10  2  3  4  5  6  7  8  9  A  J  K  Q \n",
       "11  5  7 15  6  6  7  7 11  5 10  4  6 "
      ]
     },
     "metadata": {},
     "output_type": "display_data"
    }
   ],
   "source": [
    "t1 = table(replicate(100, faces(top_card(shuffle(d)))))\n",
    "t1"
   ]
  },
  {
   "cell_type": "code",
   "execution_count": 46,
   "id": "f00a772e",
   "metadata": {},
   "outputs": [
    {
     "data": {
      "text/html": [
       "7.69230769230769"
      ],
      "text/latex": [
       "7.69230769230769"
      ],
      "text/markdown": [
       "7.69230769230769"
      ],
      "text/plain": [
       "[1] 7.69"
      ]
     },
     "metadata": {},
     "output_type": "display_data"
    }
   ],
   "source": [
    "100/13"
   ]
  },
  {
   "cell_type": "code",
   "execution_count": 47,
   "id": "aad7dbb0",
   "metadata": {},
   "outputs": [
    {
     "data": {
      "text/plain": [
       "\n",
       "   10     2     3     4     5     6     7     8     9     A     J     K     Q \n",
       " 3.31 -2.69 -0.69  7.31 -1.69 -1.69 -0.69 -0.69  3.31 -2.69  2.31 -3.69 -1.69 "
      ]
     },
     "metadata": {},
     "output_type": "display_data"
    }
   ],
   "source": [
    "t1 - 7.69"
   ]
  },
  {
   "cell_type": "code",
   "execution_count": 48,
   "id": "d2b97766",
   "metadata": {},
   "outputs": [
    {
     "data": {
      "text/html": [
       "0.00230769230769173"
      ],
      "text/latex": [
       "0.00230769230769173"
      ],
      "text/markdown": [
       "0.00230769230769173"
      ],
      "text/plain": [
       "[1] 0.00231"
      ]
     },
     "metadata": {},
     "output_type": "display_data"
    }
   ],
   "source": [
    "mean(t1 - 7.69)"
   ]
  },
  {
   "cell_type": "code",
   "execution_count": 49,
   "id": "a81af208",
   "metadata": {},
   "outputs": [
    {
     "data": {
      "image/png": "[encoded data removed]",
      "text/plain": [
       "Plot with title \"Normal Q-Q Plot\""
      ]
     },
     "metadata": {
      "image/png": {
       "height": 420,
       "width": 420
      }
     },
     "output_type": "display_data"
    }
   ],
   "source": [
    "qqnorm(as.numeric(t1)-7.69)"
   ]
  },
  {
   "cell_type": "markdown",
   "id": "5f0a7052",
   "metadata": {},
   "source": [
    "## Make a biased deck\n",
    "\n",
    "We'll duplicate one card, removing one."
   ]
  },
  {
   "cell_type": "code",
   "execution_count": 52,
   "id": "ac941b80",
   "metadata": {},
   "outputs": [
    {
     "data": {
      "text/plain": [
       "   \n",
       "    10 2 3 4 5 6 7 8 9 A J K Q\n",
       "  ♡  1 1 1 0 1 1 1 1 1 1 1 1 1\n",
       "  ♢  1 1 1 1 1 2 1 1 1 1 1 1 1\n",
       "  ♣  1 1 1 1 1 1 1 1 1 1 1 1 1\n",
       "  ♤  1 1 1 1 1 1 1 1 1 1 1 1 1"
      ]
     },
     "metadata": {},
     "output_type": "display_data"
    }
   ],
   "source": [
    "bdeck = d\n",
    "bdeck[3] = bdeck[18]\n",
    "table(suits(bdeck), faces(bdeck))"
   ]
  },
  {
   "cell_type": "code",
   "execution_count": 53,
   "id": "c11a085a",
   "metadata": {},
   "outputs": [
    {
     "data": {
      "text/plain": [
       "\n",
       "10  2  3  4  5  6  7  8  9  A  J  K  Q \n",
       " 7 13  6  6  6  7  8  9  4 11  6  5 12 "
      ]
     },
     "metadata": {},
     "output_type": "display_data"
    }
   ],
   "source": [
    "t2 = table(replicate(100, faces(top_card(shuffle(bdeck)))))\n",
    "t2"
   ]
  },
  {
   "cell_type": "code",
   "execution_count": 54,
   "id": "eecff998",
   "metadata": {},
   "outputs": [
    {
     "data": {
      "text/plain": [
       "\n",
       " 10   2   3   4   5   6   7   8   9   A   J   K   Q \n",
       "771 779 816 594 754 926 794 767 750 759 733 753 804 "
      ]
     },
     "metadata": {},
     "output_type": "display_data"
    }
   ],
   "source": [
    "t3 = table(replicate(10000, faces(top_card(shuffle(bdeck)))))\n",
    "t3"
   ]
  },
  {
   "cell_type": "code",
   "execution_count": 55,
   "id": "d10c331e",
   "metadata": {},
   "outputs": [
    {
     "data": {
      "image/png": "[encoded data removed]",
      "text/plain": [
       "Plot with title \"Normal Q-Q Plot\""
      ]
     },
     "metadata": {
      "image/png": {
       "height": 420,
       "width": 420
      }
     },
     "output_type": "display_data"
    }
   ],
   "source": [
    "qqnorm(as.numeric(t3)-769)"
   ]
  },
  {
   "cell_type": "markdown",
   "id": "eae3baf5",
   "metadata": {},
   "source": [
    "# Poker probabilities"
   ]
  },
  {
   "cell_type": "code",
   "execution_count": 62,
   "id": "8c62521b",
   "metadata": {},
   "outputs": [
    {
     "data": {
      "text/html": [
       "0.42323"
      ],
      "text/latex": [
       "0.42323"
      ],
      "text/markdown": [
       "0.42323"
      ],
      "text/plain": [
       "[1] 0.423"
      ]
     },
     "metadata": {},
     "output_type": "display_data"
    }
   ],
   "source": [
    "mean(replicate(100000, one_pair(deal_5(shuffle(d)))))"
   ]
  },
  {
   "cell_type": "code",
   "execution_count": 68,
   "id": "f0650190",
   "metadata": {},
   "outputs": [
    {
     "data": {
      "text/html": [
       "0.42408"
      ],
      "text/latex": [
       "0.42408"
      ],
      "text/markdown": [
       "0.42408"
      ],
      "text/plain": [
       "[1] 0.424"
      ]
     },
     "metadata": {},
     "output_type": "display_data"
    }
   ],
   "source": [
    "mean(replicate(100000, one_pair(deal_5(shuffle(bdeck)))))"
   ]
  },
  {
   "cell_type": "code",
   "execution_count": 64,
   "id": "409fb22e",
   "metadata": {},
   "outputs": [
    {
     "data": {
      "text/html": [
       "0.001978"
      ],
      "text/latex": [
       "0.001978"
      ],
      "text/markdown": [
       "0.001978"
      ],
      "text/plain": [
       "[1] 0.00198"
      ]
     },
     "metadata": {},
     "output_type": "display_data"
    }
   ],
   "source": [
    "mean(replicate(1000000, is_flush(deal_5(shuffle(d)))))"
   ]
  },
  {
   "cell_type": "code",
   "execution_count": 67,
   "id": "d2468272",
   "metadata": {},
   "outputs": [
    {
     "data": {
      "text/html": [
       "0.002029"
      ],
      "text/latex": [
       "0.002029"
      ],
      "text/markdown": [
       "0.002029"
      ],
      "text/plain": [
       "[1] 0.00203"
      ]
     },
     "metadata": {},
     "output_type": "display_data"
    }
   ],
   "source": [
    "mean(replicate(1000000, is_flush(deal_5(shuffle(bdeck)))))"
   ]
  },
  {
   "cell_type": "code",
   "execution_count": 72,
   "id": "bdf9c861",
   "metadata": {},
   "outputs": [
    {
     "data": {
      "text/html": [
       "0.04793"
      ],
      "text/latex": [
       "0.04793"
      ],
      "text/markdown": [
       "0.04793"
      ],
      "text/plain": [
       "[1] 0.0479"
      ]
     },
     "metadata": {},
     "output_type": "display_data"
    }
   ],
   "source": [
    "mean(replicate(100000, two_pairs(deal_5(shuffle(d)))))"
   ]
  },
  {
   "cell_type": "code",
   "execution_count": 71,
   "id": "becad08f",
   "metadata": {},
   "outputs": [
    {
     "data": {
      "text/html": [
       "0.04921"
      ],
      "text/latex": [
       "0.04921"
      ],
      "text/markdown": [
       "0.04921"
      ],
      "text/plain": [
       "[1] 0.0492"
      ]
     },
     "metadata": {},
     "output_type": "display_data"
    }
   ],
   "source": [
    "mean(replicate(100000, two_pairs(deal_5(shuffle(bdeck)))))"
   ]
  }
 ],
 "metadata": {
  "kernelspec": {
   "display_name": "R",
   "language": "R",
   "name": "ir"
  },
  "language_info": {
   "codemirror_mode": "r",
   "file_extension": ".r",
   "mimetype": "text/x-r-source",
   "name": "R",
   "pygments_lexer": "r",
   "version": "4.1.2"
  }
 },
 "nbformat": 4,
 "nbformat_minor": 5
}
